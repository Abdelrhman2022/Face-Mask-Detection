{
 "cells": [
  {
   "cell_type": "code",
   "execution_count": 39,
   "metadata": {},
   "outputs": [],
   "source": [
    "import warnings\n",
    "warnings.filterwarnings('ignore')\n",
    "import numpy as np\n",
    "import cv2\n",
    "import numpy as np\n",
    "import imutils\n",
    "from keras.models import load_model\n",
    "facedetect = cv2.CascadeClassifier(r'C:\\Users\\Abdelrahman Ragab\\Downloads\\Compressed\\Project\\haarcascade_frontalface_default.xml')\n",
    "threshold=0.90\n",
    "cap=cv2.VideoCapture(0)\n",
    "#cap.set(3, 3024)\n",
    "#cap.set(4, 4024)\n",
    "font=cv2.FONT_HERSHEY_COMPLEX\n",
    "from imutils.video import VideoStream\n",
    "model = load_model(r'C:\\Users\\Abdelrahman Ragab\\Downloads\\Compressed\\Project\\FaceMaskDetection.h5')\n",
    "\n",
    "def preprocessing(img):\n",
    "    img=img.astype(\"uint8\")\n",
    "    img=cv2.cvtColor(img, cv2.COLOR_BGR2GRAY)\n",
    "    img=cv2.equalizeHist(img)\n",
    "    img=cv2.cvtColor(img, cv2.COLOR_GRAY2RGB)\n",
    "    img = img/255\n",
    "    return img\n",
    "\n",
    "\n",
    "def get_className(classNo):\n",
    "    if classNo==0:\n",
    "        return \" Mask is Up\"\n",
    "    elif classNo==1:\n",
    "        return \" Warning No Mask!\""
   ]
  },
  {
   "cell_type": "code",
   "execution_count": 40,
   "metadata": {},
   "outputs": [],
   "source": [
    "while True:\n",
    "    image = np.empty((1,224,224,3))\n",
    "    \n",
    "    # Read the frame\n",
    "    _, image = cap.read()\n",
    "    image = imutils.resize(image, width=1024)\n",
    "    \n",
    "    faces = facedetect.detectMultiScale(image,1.3,5)\n",
    "    for x,y,w,h in faces:\n",
    "        crop_img=image[y:y+h,x:x+h]\n",
    "        img=cv2.resize(crop_img, (224,224),3)\n",
    "        img=preprocessing(img)\n",
    "        img=img.reshape(1,224,224,3)\n",
    "        \n",
    "        prediction=model.predict(img)\n",
    "        classIndex=np.argmax(prediction)\n",
    "        probabilityValue=np.amax(prediction)\n",
    "        if probabilityValue>threshold:\n",
    "            if classIndex==0:\n",
    "                cv2.rectangle(image,(x,y),(x+w,y+h),(0,240,0),2)\n",
    "                cv2.rectangle(image, (x,y-40),(x+w, y), (0,240,0),-2)\n",
    "                cv2.putText(image, str(get_className(classIndex)),(x,y-10), font, 0.75, (0,0,0),1, cv2.LINE_AA)\n",
    "            elif classIndex==1:\n",
    "                cv2.rectangle(image,(x,y),(x+w,y+h),(50,50,255),2)\n",
    "                cv2.rectangle(image, (x,y-40),(x+w, y), (50,50,255),-2)\n",
    "                cv2.putText(image, str(get_className(classIndex)),(x,y-10), font, 0.75, (255,255,255),1, cv2.LINE_AA)\n",
    "\n",
    "    # cv2.putText(imgOrignal,str(round(probabilityValue*100, 2))+\"%\" ,(180, 75), font, 0.75, (255,0,0),2, cv2.LINE_AA)\n",
    "    cv2.imshow(\"Result\",image)\n",
    "    k=cv2.waitKey(1)\n",
    "    if k==ord('q'):\n",
    "        break\n",
    "\n",
    "\n",
    "cap.release()\n",
    "cv2.destroyAllWindows()"
   ]
  },
  {
   "cell_type": "code",
   "execution_count": null,
   "metadata": {},
   "outputs": [],
   "source": []
  }
 ],
 "metadata": {
  "kernelspec": {
   "display_name": "Python 3 (ipykernel)",
   "language": "python",
   "name": "python3"
  },
  "language_info": {
   "codemirror_mode": {
    "name": "ipython",
    "version": 3
   },
   "file_extension": ".py",
   "mimetype": "text/x-python",
   "name": "python",
   "nbconvert_exporter": "python",
   "pygments_lexer": "ipython3",
   "version": "3.7.11"
  }
 },
 "nbformat": 4,
 "nbformat_minor": 4
}
